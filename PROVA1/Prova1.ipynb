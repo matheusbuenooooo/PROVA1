{
 "cells": [
  {
   "cell_type": "code",
   "execution_count": 61,
   "id": "e21492d0-d7b6-431b-8a5f-f3443a7758d3",
   "metadata": {},
   "outputs": [],
   "source": [
    "class No:\n",
    "    def __init__(self, valor):\n",
    "        self.valor = valor\n",
    "        self.proximo = None\n",
    "\n",
    "class ListaEncadeada:\n",
    "    def __init__(self):\n",
    "        self.inicio = None\n",
    "\n",
    "    def inserir(self, valor):\n",
    "        novo_no = No(valor)\n",
    "        if self.inicio is None:\n",
    "            self.inicio = novo_no\n",
    "        else:\n",
    "            atual = self.inicio\n",
    "            while atual.proximo:\n",
    "                atual = atual.proximo\n",
    "            atual.proximo = novo_no\n",
    "\n",
    "        inserir(5)\n",
    "        inserir(15)\n",
    "        inserir(25)\n",
    "\n",
    "    def contar(self):\n",
    "        len(self.novo_no)\n",
    "        print(contar(self.novo_no))"
   ]
  },
  {
   "cell_type": "code",
   "execution_count": null,
   "id": "4a09c84a-4724-4972-b0ef-703737cbe840",
   "metadata": {},
   "outputs": [],
   "source": [
    "# Infelizmente não consegui desenvolver o código, devido não lembrar do passo a passo, mas sua complexidade será O(1), pois ele percorre a lista e devolve a quantidade de elementos, sem dificuldade. "
   ]
  }
 ],
 "metadata": {
  "kernelspec": {
   "display_name": "Python 3 (ipykernel)",
   "language": "python",
   "name": "python3"
  },
  "language_info": {
   "codemirror_mode": {
    "name": "ipython",
    "version": 3
   },
   "file_extension": ".py",
   "mimetype": "text/x-python",
   "name": "python",
   "nbconvert_exporter": "python",
   "pygments_lexer": "ipython3",
   "version": "3.13.5"
  }
 },
 "nbformat": 4,
 "nbformat_minor": 5
}
